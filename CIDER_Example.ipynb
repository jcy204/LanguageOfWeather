{
 "cells": [
  {
   "cell_type": "markdown",
   "id": "5c93a0d2",
   "metadata": {},
   "source": [
    "Loading Tweets"
   ]
  },
  {
   "cell_type": "code",
   "execution_count": null,
   "id": "cea45320",
   "metadata": {},
   "outputs": [],
   "source": [
    "import sqlite3\n",
    "\n",
    "conn = sqlite3.connect('tweet_path.db')\n",
    "query = f\"SELECT text FROM weather_tweets\"\n",
    "\n",
    "df_cond = pd.read_sql_query(query, conn)\n",
    "conn.close()"
   ]
  },
  {
   "cell_type": "markdown",
   "id": "d1c95d9a",
   "metadata": {},
   "source": [
    "Running CIDER for Sentiment"
   ]
  },
  {
   "cell_type": "code",
   "execution_count": null,
   "id": "27d4c0fe",
   "metadata": {},
   "outputs": [],
   "source": [
    "from ciderpolarity import CIDER\n",
    "cdr = CIDER(list(df_cond.text),'/output/path/',verbose=True)\n",
    "cdr.fit()"
   ]
  },
  {
   "cell_type": "markdown",
   "id": "48ca81e8",
   "metadata": {},
   "source": [
    "Creating a temperature linguistic scale"
   ]
  },
  {
   "cell_type": "code",
   "execution_count": null,
   "id": "e4ba52b3",
   "metadata": {},
   "outputs": [],
   "source": [
    "col = 'max_temperature'\n",
    "\n",
    "n_rows = len(df_cond)\n",
    "\n",
    "# Coldest tweets (lowest percentiles)\n",
    "low_txt1 = df_cond.sort_values(col).iloc[:int(n_rows * 1 / 100)].text.tolist()  # Coldest 1%\n",
    "low_txt2 = df_cond.sort_values(col).iloc[int(n_rows * 1 / 100):int(n_rows * 2 / 100)].text.tolist()  # Coldest 1-2%\n",
    "low_txt3 = df_cond.sort_values(col).iloc[int(n_rows * 2 / 100):int(n_rows * 3 / 100)].text.tolist()  # Coldest 2-3%\n",
    "\n",
    "# Hottest tweets (highest percentiles)\n",
    "high_txt1 = df_cond.sort_values(col).iloc[-int(n_rows * 1 / 100):].text.tolist()  # Hottest 1%\n",
    "high_txt2 = df_cond.sort_values(col).iloc[-int(n_rows * 2 / 100):-int(n_rows * 1 / 100)].text.tolist()  # Hottest 1-2%\n",
    "high_txt3 = df_cond.sort_values(col).iloc[-int(n_rows * 3 / 100):-int(n_rows * 2 / 100)].text.tolist()  # Hottest 2-3%\n",
    "\n",
    "# Middle range (neither too cold nor too hot)\n",
    "middle_txt = df_cond.sort_values(col).iloc[int(n_rows * 3 / 100):-int(n_rows * 3 / 100)].clean_text.tolist()\n",
    "\n",
    "# Add labels to tweets\n",
    "low_txt1 = [f\"{text} low1\" for text in low_txt1]\n",
    "low_txt2 = [f\"{text} low2\" for text in low_txt2]\n",
    "low_txt3 = [f\"{text} low3\" for text in low_txt3]\n",
    "\n",
    "high_txt1 = [f\"{text} top1\" for text in high_txt1]\n",
    "high_txt2 = [f\"{text} top2\" for text in high_txt2]\n",
    "high_txt3 = [f\"{text} top3\" for text in high_txt3]\n",
    "\n",
    "# Combine labelled tweets\n",
    "low_txt = low_txt1 + low_txt2 + low_txt3\n",
    "high_txt = high_txt1 + high_txt2 + high_txt3\n",
    "\n",
    "# Define seed weights\n",
    "top_seeds = {\"top1\": 3, \"top2\": 2, \"top3\": 1}\n",
    "low_seeds = {\"low1\": 3, \"low2\": 2, \"low3\": 1}\n",
    "\n",
    "# Combine all text for analysis\n",
    "texts = low_txt + high_txt + middle_txt\n",
    "\n",
    "# Run CIDER\n",
    "cdr = CIDER(texts, '/output/path/', pos_seeds=top_seeds, neg_seeds=low_seeds)\n",
    "cdr.fit()\n"
   ]
  }
 ],
 "metadata": {
  "kernelspec": {
   "display_name": "Python 3 (ipykernel)",
   "language": "python",
   "name": "python3"
  },
  "language_info": {
   "codemirror_mode": {
    "name": "ipython",
    "version": 3
   },
   "file_extension": ".py",
   "mimetype": "text/x-python",
   "name": "python",
   "nbconvert_exporter": "python",
   "pygments_lexer": "ipython3",
   "version": "3.10.12"
  },
  "varInspector": {
   "cols": {
    "lenName": 16,
    "lenType": 16,
    "lenVar": 40
   },
   "kernels_config": {
    "python": {
     "delete_cmd_postfix": "",
     "delete_cmd_prefix": "del ",
     "library": "var_list.py",
     "varRefreshCmd": "print(var_dic_list())"
    },
    "r": {
     "delete_cmd_postfix": ") ",
     "delete_cmd_prefix": "rm(",
     "library": "var_list.r",
     "varRefreshCmd": "cat(var_dic_list()) "
    }
   },
   "types_to_exclude": [
    "module",
    "function",
    "builtin_function_or_method",
    "instance",
    "_Feature"
   ],
   "window_display": false
  }
 },
 "nbformat": 4,
 "nbformat_minor": 5
}
